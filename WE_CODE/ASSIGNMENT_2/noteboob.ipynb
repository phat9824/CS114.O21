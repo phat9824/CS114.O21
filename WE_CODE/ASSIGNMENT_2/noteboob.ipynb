{
 "cells": [
  {
   "cell_type": "code",
   "execution_count": 18,
   "metadata": {},
   "outputs": [],
   "source": [
    "!python Borntest.py > file.inp"
   ]
  },
  {
   "cell_type": "code",
   "execution_count": 40,
   "metadata": {},
   "outputs": [
    {
     "name": "stdout",
     "output_type": "stream",
     "text": [
      "23\n",
      "4 1 2\n",
      "7 8 3\n",
      "10 11 6\n",
      "13 14 9\n",
      "16 17 12\n",
      "19 20 15\n",
      "22 23 18\n",
      "25 5 21\n",
      "26 27 24\n"
     ]
    }
   ],
   "source": [
    "!python dich_ria.py < file.inp"
   ]
  },
  {
   "cell_type": "code",
   "execution_count": 41,
   "metadata": {},
   "outputs": [
    {
     "name": "stdout",
     "output_type": "stream",
     "text": [
      "5 1 2 3\n",
      "9 7 11 4\n",
      "13 6 15 8\n",
      "17 10 19 12\n",
      "21 14 23 16\n",
      "25 18 22 20\n",
      "26 27 28 24\n"
     ]
    }
   ],
   "source": [
    "!python bai1.py < file.inp"
   ]
  }
 ],
 "metadata": {
  "kernelspec": {
   "display_name": "Python 3",
   "language": "python",
   "name": "python3"
  },
  "language_info": {
   "codemirror_mode": {
    "name": "ipython",
    "version": 3
   },
   "file_extension": ".py",
   "mimetype": "text/x-python",
   "name": "python",
   "nbconvert_exporter": "python",
   "pygments_lexer": "ipython3",
   "version": "3.11.4"
  }
 },
 "nbformat": 4,
 "nbformat_minor": 2
}
